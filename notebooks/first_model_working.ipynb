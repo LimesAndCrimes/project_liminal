{
 "cells": [
  {
   "cell_type": "code",
   "execution_count": null,
   "id": "6ae0d34e",
   "metadata": {
    "ExecuteTime": {
     "end_time": "2023-03-07T15:14:20.836404Z",
     "start_time": "2023-03-07T15:14:16.506777Z"
    }
   },
   "outputs": [],
   "source": [
    "from tensorflow.keras import layers\n",
    "from tensorflow.keras.models import Sequential\n",
    "from tensorflow.keras.losses import BinaryCrossentropy\n",
    "from tensorflow import zeros_like, ones_like, function, GradientTape\n",
    "from tensorflow.train import Checkpoint\n",
    "from tensorflow.random import normal\n",
    "from tensorflow.keras.optimizers import Adam\n",
    "from IPython import display\n",
    "import time\n",
    "import os\n",
    "import pandas as pd\n",
    "import numpy as np\n",
    "import matplotlib.pyplot as plt"
   ]
  },
  {
   "cell_type": "markdown",
   "id": "becf3f72",
   "metadata": {},
   "source": [
    "## Preprocessing"
   ]
  },
  {
   "cell_type": "code",
   "execution_count": null,
   "id": "da9649ce",
   "metadata": {
    "ExecuteTime": {
     "end_time": "2023-03-07T15:14:20.958596Z",
     "start_time": "2023-03-07T15:14:20.842518Z"
    }
   },
   "outputs": [],
   "source": [
    "#BUFFER_SIZE = 60000 #seed for shuffling?\n",
    "BATCH_SIZE = 4\n",
    "EPOCHS = 10\n",
    "noise_dim = 100\n",
    "num_examples_to_generate = 16\n",
    "\n",
    "# You will reuse this seed overtime (so it's easier)\n",
    "# to visualize progress in the animated GIF)\n",
    "seed = normal([num_examples_to_generate, noise_dim])"
   ]
  },
  {
   "cell_type": "markdown",
   "id": "0dfbf657",
   "metadata": {},
   "source": [
    "## Generator"
   ]
  },
  {
   "cell_type": "code",
   "execution_count": null,
   "id": "f17d99a5",
   "metadata": {
    "ExecuteTime": {
     "end_time": "2023-03-07T15:14:20.979824Z",
     "start_time": "2023-03-07T15:14:20.965139Z"
    }
   },
   "outputs": [],
   "source": [
    "def make_generator_model() :\n",
    "\n",
    "    #Establish the sequential model\n",
    "    model = Sequential()\n",
    "\n",
    "    #Start from latent space (REMEMBER - GENERATOR ARCHITECTURE MUST MIRROR DISCRIMINITOR ARCHITECTURE)\n",
    "    #Noise comes in as (100,0) vector\n",
    "    model.add(layers.Dense(7*7*256, use_bias=False, input_shape=(100,)))\n",
    "\n",
    "    #Transformer - Transforms output so that mean output -> 0 and SD output -> 1\n",
    "    model.add(layers.BatchNormalization())\n",
    "\n",
    "    #Activator - weights for generating an image?\n",
    "    model.add(layers.LeakyReLU())\n",
    "\n",
    "    #Reshape - first step towards final image size (separate out neurons)\n",
    "    model.add(layers.Reshape((7, 7, 256)))\n",
    "\n",
    "    #Check that output is correct shape\n",
    "    assert model.output_shape == (None, 7, 7, 256)  # Note: None is the batch size\n",
    "\n",
    "    #Deconvolute from 7x7x256 to 7x7x128\n",
    "    model.add(layers.Conv2DTranspose(128, (5, 5), strides=(1, 1), padding='same', use_bias=False))\n",
    "\n",
    "    #Check that output is correct shape\n",
    "    assert model.output_shape == (None, 7, 7, 128)\n",
    "\n",
    "    #Transformer - Transforms output so that mean output -> 0 and SD output -> 1\n",
    "    model.add(layers.BatchNormalization())\n",
    "\n",
    "    #Activator - weights for generating an image?\n",
    "    model.add(layers.LeakyReLU())\n",
    "\n",
    "    #Deconvolute from 7x7x128 to 14x14x64\n",
    "    model.add(layers.Conv2DTranspose(64, (5, 5), strides=(2, 2), padding='same', use_bias=False))\n",
    "\n",
    "    #Check that output is correct shape\n",
    "    assert model.output_shape == (None, 14, 14, 64)\n",
    "\n",
    "    #Transformer - Transforms output so that mean output -> 0 and SD output -> 1\n",
    "    model.add(layers.BatchNormalization())\n",
    "\n",
    "    #Activator - weights for generating an image?\n",
    "    model.add(layers.LeakyReLU())\n",
    "\n",
    "    #Deconvolute from 14x14x64 to 28x28x64\n",
    "    model.add(layers.Conv2DTranspose(64, (5, 5), strides=(2, 2), padding='same', use_bias=False, activation='tanh'))\n",
    "\n",
    "    #Transformer - Transforms output so that mean output -> 0 and SD output -> 1\n",
    "    model.add(layers.BatchNormalization())\n",
    "\n",
    "    #Activator - weights for generating an image?\n",
    "    model.add(layers.LeakyReLU())\n",
    "\n",
    "    #Deconvolute from 28x28x64 to 56x56x3\n",
    "    model.add(layers.Conv2DTranspose(3, (5, 5), strides=(2, 2), padding='same', use_bias=False, activation='tanh'))\n",
    "\n",
    "    assert model.output_shape == (None, 56, 56, 3)\n",
    "\n",
    "    return model\n"
   ]
  },
  {
   "cell_type": "code",
   "execution_count": null,
   "id": "66fe5a7f",
   "metadata": {},
   "outputs": [],
   "source": []
  },
  {
   "cell_type": "code",
   "execution_count": null,
   "id": "0b5ae518",
   "metadata": {
    "ExecuteTime": {
     "end_time": "2023-03-07T15:14:21.289913Z",
     "start_time": "2023-03-07T15:14:21.012784Z"
    }
   },
   "outputs": [],
   "source": [
    "generator = make_generator_model()"
   ]
  },
  {
   "cell_type": "code",
   "execution_count": null,
   "id": "b9591b84",
   "metadata": {
    "ExecuteTime": {
     "end_time": "2023-03-07T15:14:21.389327Z",
     "start_time": "2023-03-07T15:14:21.295506Z"
    }
   },
   "outputs": [],
   "source": [
    "generator.summary()"
   ]
  },
  {
   "cell_type": "markdown",
   "id": "1b5fd3a5",
   "metadata": {},
   "source": [
    "## Discriminator"
   ]
  },
  {
   "cell_type": "code",
   "execution_count": null,
   "id": "bf816347",
   "metadata": {
    "ExecuteTime": {
     "end_time": "2023-03-07T15:14:23.873934Z",
     "start_time": "2023-03-07T15:14:23.864496Z"
    }
   },
   "outputs": [],
   "source": [
    "def make_discriminator_model():\n",
    "    model = Sequential([\n",
    "        layers.Conv2D(64, (5,5), strides=(2, 2), padding='same', input_shape=[56, 56 , 3]),\n",
    "#         layers.MaxPool2D(pool_size = (2,2), padding='same'),\n",
    "        layers.LeakyReLU(),\n",
    "        layers.Dropout(0.4),\n",
    "        \n",
    "        \n",
    "        layers.Conv2D(128, (3,3), strides = (2,2), padding = 'same'),\n",
    "        layers.LeakyReLU(),\n",
    "        layers.Dropout(0.4),\n",
    "        \n",
    "        layers.Flatten(),\n",
    "        layers.Dense(1, activation = 'sigmoid' )])\n",
    "\n",
    "    return model"
   ]
  },
  {
   "cell_type": "code",
   "execution_count": null,
   "id": "fe8c33dd",
   "metadata": {
    "ExecuteTime": {
     "end_time": "2023-03-07T15:14:25.105165Z",
     "start_time": "2023-03-07T15:14:25.023858Z"
    }
   },
   "outputs": [],
   "source": [
    "discriminator = make_discriminator_model()"
   ]
  },
  {
   "cell_type": "code",
   "execution_count": null,
   "id": "5d29fe73",
   "metadata": {
    "ExecuteTime": {
     "end_time": "2023-03-07T15:14:25.204250Z",
     "start_time": "2023-03-07T15:14:25.156933Z"
    }
   },
   "outputs": [],
   "source": [
    "discriminator.summary()"
   ]
  },
  {
   "cell_type": "markdown",
   "id": "f9bbb678",
   "metadata": {},
   "source": [
    "## Loss and Optimizers"
   ]
  },
  {
   "cell_type": "markdown",
   "id": "e2baa4c2",
   "metadata": {},
   "source": [
    "### Dicsriminator loss:"
   ]
  },
  {
   "cell_type": "code",
   "execution_count": null,
   "id": "138f2674",
   "metadata": {
    "ExecuteTime": {
     "end_time": "2023-03-07T15:14:27.348144Z",
     "start_time": "2023-03-07T15:14:27.343235Z"
    }
   },
   "outputs": [],
   "source": [
    "# This method returns a helper function to compute cross entropy loss\n",
    "cross_entropy = BinaryCrossentropy(from_logits=True)"
   ]
  },
  {
   "cell_type": "code",
   "execution_count": null,
   "id": "1c502a23",
   "metadata": {
    "ExecuteTime": {
     "end_time": "2023-03-07T15:14:27.649009Z",
     "start_time": "2023-03-07T15:14:27.641179Z"
    }
   },
   "outputs": [],
   "source": [
    "def discriminator_loss(real_output, fake_output):\n",
    "    real_loss = cross_entropy(ones_like(real_output), real_output)\n",
    "    fake_loss = cross_entropy(zeros_like(fake_output), fake_output)\n",
    "    total_loss = real_loss + fake_loss\n",
    "    return total_loss"
   ]
  },
  {
   "cell_type": "markdown",
   "id": "701e0095",
   "metadata": {},
   "source": [
    "### Generator loss:"
   ]
  },
  {
   "cell_type": "code",
   "execution_count": null,
   "id": "b11c9b9c",
   "metadata": {
    "ExecuteTime": {
     "end_time": "2023-03-07T15:14:29.046149Z",
     "start_time": "2023-03-07T15:14:29.039326Z"
    }
   },
   "outputs": [],
   "source": [
    "def generator_loss(fake_output):\n",
    "    return cross_entropy(ones_like(fake_output), fake_output)"
   ]
  },
  {
   "cell_type": "markdown",
   "id": "eb382288",
   "metadata": {},
   "source": [
    "### Optimizers: "
   ]
  },
  {
   "cell_type": "code",
   "execution_count": null,
   "id": "b09ae9b2",
   "metadata": {
    "ExecuteTime": {
     "end_time": "2023-03-07T15:14:31.948592Z",
     "start_time": "2023-03-07T15:14:31.936597Z"
    }
   },
   "outputs": [],
   "source": [
    "generator_optimizer = Adam(learning_rate = 0.1)\n",
    "discriminator_optimizer = Adam(learning_rate = 0.1)"
   ]
  },
  {
   "cell_type": "markdown",
   "id": "906765cb",
   "metadata": {},
   "source": [
    "## Checkpoints"
   ]
  },
  {
   "cell_type": "code",
   "execution_count": null,
   "id": "20a1bdb4",
   "metadata": {
    "ExecuteTime": {
     "end_time": "2023-03-07T15:14:33.203535Z",
     "start_time": "2023-03-07T15:14:33.197760Z"
    }
   },
   "outputs": [],
   "source": [
    "checkpoint_dir = './training_checkpoints'\n",
    "checkpoint_prefix = os.path.join(checkpoint_dir, \"ckpt\")\n",
    "checkpoint = Checkpoint(generator_optimizer=generator_optimizer,\n",
    "                                 discriminator_optimizer=discriminator_optimizer,\n",
    "                                 generator=generator,\n",
    "                                 discriminator=discriminator)"
   ]
  },
  {
   "cell_type": "markdown",
   "id": "425fece6",
   "metadata": {},
   "source": [
    "## Training"
   ]
  },
  {
   "cell_type": "markdown",
   "id": "e3de9072",
   "metadata": {},
   "source": [
    "### Training loops"
   ]
  },
  {
   "cell_type": "code",
   "execution_count": null,
   "id": "67151c5c",
   "metadata": {
    "ExecuteTime": {
     "end_time": "2023-03-07T15:14:35.052039Z",
     "start_time": "2023-03-07T15:14:35.042833Z"
    }
   },
   "outputs": [],
   "source": [
    "@function\n",
    "def train_step(images):\n",
    "    noise = normal([BATCH_SIZE, noise_dim])\n",
    "\n",
    "    with GradientTape() as gen_tape, GradientTape() as disc_tape:\n",
    "        generated_images = generator(noise, training=True)\n",
    "\n",
    "        real_output = discriminator(images, training=True)\n",
    "        fake_output = discriminator(generated_images, training=True)\n",
    "\n",
    "        gen_loss = generator_loss(fake_output)\n",
    "        disc_loss = discriminator_loss(real_output, fake_output)\n",
    "\n",
    "    gradients_of_generator = gen_tape.gradient(gen_loss, generator.trainable_variables)\n",
    "    gradients_of_discriminator = disc_tape.gradient(disc_loss, discriminator.trainable_variables)\n",
    "\n",
    "    generator_optimizer.apply_gradients(zip(gradients_of_generator, generator.trainable_variables))\n",
    "    discriminator_optimizer.apply_gradients(zip(gradients_of_discriminator, discriminator.trainable_variables))"
   ]
  },
  {
   "cell_type": "markdown",
   "id": "6c4a98f4",
   "metadata": {},
   "source": [
    "### Train function"
   ]
  },
  {
   "cell_type": "code",
   "execution_count": null,
   "id": "d0ec7791",
   "metadata": {
    "ExecuteTime": {
     "end_time": "2023-03-07T15:14:36.376568Z",
     "start_time": "2023-03-07T15:14:36.370186Z"
    }
   },
   "outputs": [],
   "source": [
    "def generate_and_save_images(model, epoch, test_input):\n",
    "  # Notice `training` is set to False.\n",
    "  # This is so all layers run in inference mode (batchnorm).\n",
    "    predictions = model(test_input, training=False)\n",
    "\n",
    "    fig = plt.figure(figsize=(4, 4))\n",
    "\n",
    "    for i in range(predictions.shape[0]):\n",
    "        plt.subplot(4, 4, i+1)\n",
    "        plt.imshow(predictions[i, :, :, :] * 255)\n",
    "        plt.axis('off')\n",
    "\n",
    "    plt.savefig(f'image_at_epoch_{epoch}.png',)\n",
    "    plt.show()"
   ]
  },
  {
   "cell_type": "code",
   "execution_count": null,
   "id": "347917f9",
   "metadata": {
    "ExecuteTime": {
     "end_time": "2023-03-07T15:14:37.784562Z",
     "start_time": "2023-03-07T15:14:37.776956Z"
    }
   },
   "outputs": [],
   "source": [
    "def train(dataset, epochs):\n",
    "    for epoch in range(epochs):\n",
    "        start = time.time()\n",
    "\n",
    "        for image_batch in dataset:\n",
    "            train_step(image_batch)\n",
    "\n",
    "        # Save the model every 10 epochs\n",
    "        if (epoch + 1) % 2 == 0:\n",
    "            checkpoint.save(file_prefix = checkpoint_prefix)\n",
    "            print ('Time for epoch {} is {} sec'.format(epoch + 1, time.time()-start))\n",
    "            display.clear_output(wait=True)\n",
    "            generate_and_save_images(generator,epoch + 1, seed)\n",
    "            \n",
    "      # Generate after the final epoch\n",
    "        display.clear_output(wait=True)\n",
    "        generate_and_save_images(generator,epochs, seed)"
   ]
  },
  {
   "cell_type": "code",
   "execution_count": null,
   "id": "dcc2ec07",
   "metadata": {
    "ExecuteTime": {
     "end_time": "2023-03-07T15:14:37.900763Z",
     "start_time": "2023-03-07T15:14:37.893691Z"
    }
   },
   "outputs": [],
   "source": [
    "test_folder = '/home/paulylydia/code/LimesAndCrimes/project_liminal/data'"
   ]
  },
  {
   "cell_type": "code",
   "execution_count": null,
   "id": "99631f89",
   "metadata": {
    "ExecuteTime": {
     "end_time": "2023-03-07T15:14:38.247443Z",
     "start_time": "2023-03-07T15:14:38.237802Z"
    }
   },
   "outputs": [],
   "source": [
    "from tensorflow.data import Dataset\n",
    "from tensorflow.keras import utils\n",
    "import pathlib"
   ]
  },
  {
   "cell_type": "code",
   "execution_count": null,
   "id": "a5e8814f",
   "metadata": {
    "ExecuteTime": {
     "end_time": "2023-03-07T15:14:38.757057Z",
     "start_time": "2023-03-07T15:14:38.702757Z"
    }
   },
   "outputs": [],
   "source": [
    "directory = '/home/paulylydia/code/LimesAndCrimes/project_liminal/data'\n",
    "\n",
    "ds = utils.image_dataset_from_directory(\n",
    "    directory,\n",
    "    labels=None,\n",
    "    color_mode='rgb',\n",
    "    batch_size=5,\n",
    "    image_size=(56, 56),\n",
    "    shuffle=True,\n",
    "    seed=None,\n",
    "    validation_split=None,\n",
    "    subset=None,\n",
    "    interpolation='bilinear',\n",
    "    follow_links=False,\n",
    "    crop_to_aspect_ratio=False,\n",
    ")"
   ]
  },
  {
   "cell_type": "code",
   "execution_count": null,
   "id": "25bb74f9",
   "metadata": {
    "ExecuteTime": {
     "end_time": "2023-03-07T15:14:40.363586Z",
     "start_time": "2023-03-07T15:14:40.348817Z"
    }
   },
   "outputs": [],
   "source": [
    "len(ds)"
   ]
  },
  {
   "cell_type": "code",
   "execution_count": null,
   "id": "3dfad53f",
   "metadata": {
    "ExecuteTime": {
     "end_time": "2023-03-07T15:28:02.788971Z",
     "start_time": "2023-03-07T15:27:48.684930Z"
    }
   },
   "outputs": [],
   "source": [
    "generator = make_generator_model()\n",
    "discriminator = make_discriminator_model()\n",
    "\n",
    "test_output1 = train(ds, EPOCHS)"
   ]
  },
  {
   "cell_type": "code",
   "execution_count": null,
   "id": "55115c97",
   "metadata": {
    "ExecuteTime": {
     "end_time": "2023-03-07T15:27:28.191067Z",
     "start_time": "2023-03-07T15:27:28.185005Z"
    }
   },
   "outputs": [],
   "source": [
    "seed = normal([num_examples_to_generate, noise_dim])"
   ]
  },
  {
   "cell_type": "code",
   "execution_count": null,
   "id": "453363d6",
   "metadata": {
    "ExecuteTime": {
     "end_time": "2023-03-07T15:21:26.919622Z",
     "start_time": "2023-03-07T15:21:26.660692Z"
    }
   },
   "outputs": [],
   "source": [
    "predictions = generator(seed, training=False)"
   ]
  },
  {
   "cell_type": "code",
   "execution_count": null,
   "id": "39d97cfb",
   "metadata": {
    "ExecuteTime": {
     "end_time": "2023-03-07T15:21:54.532607Z",
     "start_time": "2023-03-07T15:21:54.353245Z"
    }
   },
   "outputs": [],
   "source": [
    "plt.imshow(predictions[0, :, :, :] * 255)"
   ]
  },
  {
   "cell_type": "code",
   "execution_count": null,
   "id": "28e10f27",
   "metadata": {},
   "outputs": [],
   "source": []
  }
 ],
 "metadata": {
  "kernelspec": {
   "display_name": "Python 3 (ipykernel)",
   "language": "python",
   "name": "python3"
  },
  "language_info": {
   "codemirror_mode": {
    "name": "ipython",
    "version": 3
   },
   "file_extension": ".py",
   "mimetype": "text/x-python",
   "name": "python",
   "nbconvert_exporter": "python",
   "pygments_lexer": "ipython3",
   "version": "3.10.6"
  },
  "toc": {
   "base_numbering": 1,
   "nav_menu": {},
   "number_sections": true,
   "sideBar": true,
   "skip_h1_title": false,
   "title_cell": "Table of Contents",
   "title_sidebar": "Contents",
   "toc_cell": false,
   "toc_position": {},
   "toc_section_display": true,
   "toc_window_display": false
  }
 },
 "nbformat": 4,
 "nbformat_minor": 5
}
